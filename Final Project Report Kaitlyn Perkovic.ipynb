{
 "cells": [
  {
   "attachments": {},
   "cell_type": "markdown",
   "id": "b759a1bf-63e7-48fe-ac93-aacac66ac6ba",
   "metadata": {},
   "source": [
    "## TFT - The Correlation Between Player Damage Done and Placement\n",
    "### Kaitlyn Perkovic\n",
    "#### December 9th, 2024\n",
    "\n",
    "Teamfight Tactics is a free-for-all autobattler game created by Riot Games, featuring a handful of the iconic League of Legends Champions- this set, Set 13, features some of the famous and important characters from Arcane. The goal of this game is to grow a board of champions, each with their own trait. Match the trait and your team gets a buff. There are items, augments, and more that will either buff you or your team. \n",
    "\n",
    "Players start with one hundred health. Each player combat round, you or your opponent deal player damage: you deal damage to your opponent, or your opponent deals it to you. Once players are at zero or below zero health, they are eliminated. Out of eight players in a lobby, the bottom four are considered the losers of the game and the top four are considered winners.\n",
    "\n",
    "One of the common conceptions of TFT is that the more player damage a person does, the higher they place. With this, I believe that the more player damage a person does, the higher they place- and vice versa. In this Jupyter Notebook, I will be examining the correlation between my five most recent Teamfight Tactics games, the player damage I did to other players, and my placement to examine if the common conception is correct.\n",
    "\n",
    "\n",
    "The resources I will be using are:\n",
    "- Retrieving match material: https://developer.riotgames.com/\n",
    "- Code Example/Format: https://www.youtube.com/watch?v=jkzq9j5yeT8&list=PL3vL1pnMCbUERqllcwhcvEJbKum-M9zT5\n",
    "- Course Material: https://github.com/dataesilva/data-emat_fa24\n",
    "\n"
   ]
  },
  {
   "cell_type": "markdown",
   "id": "0df9c918-e6c7-4225-85d0-109a3f94c3f7",
   "metadata": {},
   "source": [
    "First, I will be identifying my API key in order to access the other API’s I will need- the account and the matches API. Since this API key refreshes every 24 hours, it is completely safe for it to be visible. This API key will be added to the end of the API links that are retrieved from the Riot Games Developer Portal. This will allow me to access the data behind these API links. In order to make sure that these API’s are valid, I request the response code- a 200 means a valid, working API link. I then used json to retrieve the data from these links.\n"
   ]
  },
  {
   "cell_type": "code",
   "execution_count": 2,
   "id": "bcc749ca-89ef-4dac-9998-0bbba159989c",
   "metadata": {},
   "outputs": [],
   "source": [
    "import pandas as pd\n",
    "import requests\n",
    "import json\n",
    "import matplotlib\n",
    "import base64\n",
    "import matplotlib.pyplot as plt"
   ]
  },
  {
   "cell_type": "code",
   "execution_count": 3,
   "id": "c09c0a52-0cbe-4a35-9748-253966c05267",
   "metadata": {},
   "outputs": [],
   "source": [
    "api_key = \"RGAPI-b7c1e19b-d041-4fd3-99e8-3047f8d1c5e2\""
   ]
  },
  {
   "cell_type": "code",
   "execution_count": 4,
   "id": "d4942d36-a6fe-482c-9e56-9d3c9e6182c7",
   "metadata": {},
   "outputs": [],
   "source": [
    "account_api_url = \"https://americas.api.riotgames.com/riot/account/v1/accounts/by-riot-id/KSU%20kaitlyn/2640\""
   ]
  },
  {
   "cell_type": "code",
   "execution_count": 5,
   "id": "3c8ea33b-d2ca-4802-bd42-840671407d08",
   "metadata": {},
   "outputs": [
    {
     "data": {
      "text/plain": [
       "<Response [401]>"
      ]
     },
     "execution_count": 5,
     "metadata": {},
     "output_type": "execute_result"
    }
   ],
   "source": [
    "requests.get(account_api_url)"
   ]
  },
  {
   "cell_type": "code",
   "execution_count": 6,
   "id": "95da283c-54de-4032-82cf-d5d1b5645b2f",
   "metadata": {},
   "outputs": [
    {
     "data": {
      "text/plain": [
       "'https://americas.api.riotgames.com/riot/account/v1/accounts/by-riot-id/KSU%20kaitlyn/2640?api_key=RGAPI-b7c1e19b-d041-4fd3-99e8-3047f8d1c5e2'"
      ]
     },
     "execution_count": 6,
     "metadata": {},
     "output_type": "execute_result"
    }
   ],
   "source": [
    "account_api_url = account_api_url + '?api_key=' + api_key\n",
    "account_api_url"
   ]
  },
  {
   "cell_type": "code",
   "execution_count": 7,
   "id": "383f8a4d-d494-4bc7-b626-d5abf864f2de",
   "metadata": {},
   "outputs": [
    {
     "data": {
      "text/plain": [
       "<Response [200]>"
      ]
     },
     "execution_count": 7,
     "metadata": {},
     "output_type": "execute_result"
    }
   ],
   "source": [
    "account_response = requests.get(account_api_url)\n",
    "account_response"
   ]
  },
  {
   "cell_type": "code",
   "execution_count": 8,
   "id": "6ef15056-3784-4a4d-8c89-e95790e59ba8",
   "metadata": {},
   "outputs": [
    {
     "data": {
      "text/plain": [
       "{'puuid': 'kAyLsUWjjLXsTfx2KTnaoJosyIFQlTEgV7Cq7P6FFlkcNqJvomESh7u2NUncHkluC_-fAxGdt1xSVg',\n",
       " 'gameName': 'KSU kaitlyn',\n",
       " 'tagLine': '2640'}"
      ]
     },
     "execution_count": 8,
     "metadata": {},
     "output_type": "execute_result"
    }
   ],
   "source": [
    "my_account_info = account_response.json()\n",
    "my_account_info"
   ]
  },
  {
   "cell_type": "markdown",
   "id": "e558a42e-cf3f-405f-9b2e-1b22d6c25531",
   "metadata": {},
   "source": [
    "Here, I will extract my PUUID in order to retrieve the five most recent  matches that I have played. I will then give a variable to each match, starting with m1 being the most recently played match. I then use these match ID’s in the Riot Games Developer Portal to retrieve the API link for each match. Then, I make sure the API link for each match is working and retrieve the data. I find the keys and use the “info” key to find the data I will need. I then select the participants, find my player data, and the variables I will need: placement and total damage to players. I then give the placement value and the total damage to players value a variable. I will do this for all five matches."
   ]
  },
  {
   "cell_type": "code",
   "execution_count": 9,
   "id": "add6dbde-eecd-4efc-a0fe-6b982c6face3",
   "metadata": {},
   "outputs": [
    {
     "data": {
      "text/plain": [
       "'kAyLsUWjjLXsTfx2KTnaoJosyIFQlTEgV7Cq7P6FFlkcNqJvomESh7u2NUncHkluC_-fAxGdt1xSVg'"
      ]
     },
     "execution_count": 9,
     "metadata": {},
     "output_type": "execute_result"
    }
   ],
   "source": [
    "my_puuid = my_account_info['puuid']\n",
    "my_puuid"
   ]
  },
  {
   "cell_type": "code",
   "execution_count": 10,
   "id": "a740b50e-3aff-4566-ae58-0fffd6261b0e",
   "metadata": {},
   "outputs": [],
   "source": [
    "matches_api_url = \"https://americas.api.riotgames.com/tft/match/v1/matches/by-puuid/kAyLsUWjjLXsTfx2KTnaoJosyIFQlTEgV7Cq7P6FFlkcNqJvomESh7u2NUncHkluC_-fAxGdt1xSVg/ids?start=0&count=5\""
   ]
  },
  {
   "cell_type": "code",
   "execution_count": 11,
   "id": "13c082a8-cd8a-43c6-9942-78b4c11eb234",
   "metadata": {},
   "outputs": [
    {
     "data": {
      "text/plain": [
       "'https://americas.api.riotgames.com/tft/match/v1/matches/by-puuid/kAyLsUWjjLXsTfx2KTnaoJosyIFQlTEgV7Cq7P6FFlkcNqJvomESh7u2NUncHkluC_-fAxGdt1xSVg/ids?start=0&count=5&api_key=RGAPI-b7c1e19b-d041-4fd3-99e8-3047f8d1c5e2'"
      ]
     },
     "execution_count": 11,
     "metadata": {},
     "output_type": "execute_result"
    }
   ],
   "source": [
    "matches_api_url = matches_api_url + \"&api_key=\" + api_key\n",
    "matches_api_url"
   ]
  },
  {
   "cell_type": "code",
   "execution_count": 12,
   "id": "c754422b-2862-4dec-98dd-4aab023f87e1",
   "metadata": {},
   "outputs": [
    {
     "data": {
      "text/plain": [
       "<Response [200]>"
      ]
     },
     "execution_count": 12,
     "metadata": {},
     "output_type": "execute_result"
    }
   ],
   "source": [
    "matches_response = requests.get(matches_api_url)\n",
    "matches_response"
   ]
  },
  {
   "cell_type": "code",
   "execution_count": 13,
   "id": "84ffa73f-36b5-4358-9595-caff010c7ce1",
   "metadata": {},
   "outputs": [
    {
     "data": {
      "text/plain": [
       "['NA1_5177288898',\n",
       " 'NA1_5177257206',\n",
       " 'NA1_5177182667',\n",
       " 'NA1_5177140670',\n",
       " 'NA1_5177104755']"
      ]
     },
     "execution_count": 13,
     "metadata": {},
     "output_type": "execute_result"
    }
   ],
   "source": [
    "matches = matches_response.json()\n",
    "matches"
   ]
  },
  {
   "cell_type": "code",
   "execution_count": 14,
   "id": "33e92fcd-ec7b-4d9a-bc09-0dc4f07023a6",
   "metadata": {},
   "outputs": [],
   "source": [
    "m1 = matches[0]\n",
    "m2 = matches[1]\n",
    "m3 = matches[2]\n",
    "m4 = matches[3]\n",
    "m5 = matches[4]"
   ]
  },
  {
   "cell_type": "code",
   "execution_count": 15,
   "id": "82fc22d0-47a6-4748-9e49-8875cdc5abff",
   "metadata": {},
   "outputs": [],
   "source": [
    "m1_api_url = \"https://americas.api.riotgames.com/tft/match/v1/matches/NA1_5177288898\""
   ]
  },
  {
   "cell_type": "code",
   "execution_count": 16,
   "id": "8c5bc6da-281a-4982-80b1-7b45276b14c9",
   "metadata": {},
   "outputs": [
    {
     "data": {
      "text/plain": [
       "'https://americas.api.riotgames.com/tft/match/v1/matches/NA1_5177288898?api_key=RGAPI-b7c1e19b-d041-4fd3-99e8-3047f8d1c5e2'"
      ]
     },
     "execution_count": 16,
     "metadata": {},
     "output_type": "execute_result"
    }
   ],
   "source": [
    "m1_api_url = m1_api_url + \"?api_key=\" + api_key\n",
    "m1_api_url"
   ]
  },
  {
   "cell_type": "code",
   "execution_count": 21,
   "id": "ae3473f1-aa66-4aee-98be-2124cd3a4b48",
   "metadata": {},
   "outputs": [
    {
     "data": {
      "text/plain": [
       "<Response [200]>"
      ]
     },
     "execution_count": 21,
     "metadata": {},
     "output_type": "execute_result"
    }
   ],
   "source": [
    "m1_response = requests.get(m1_api_url)\n",
    "m1_response"
   ]
  },
  {
   "cell_type": "code",
   "execution_count": 47,
   "id": "cda2460b-ab2d-4163-8595-7325cac377b1",
   "metadata": {},
   "outputs": [],
   "source": [
    "m1_data = m1_response.json()\n",
    "#m1_data"
   ]
  },
  {
   "cell_type": "code",
   "execution_count": 48,
   "id": "95c07a53-a8be-498f-bbc4-218fd5fffd93",
   "metadata": {},
   "outputs": [
    {
     "data": {
      "text/plain": [
       "dict_keys(['metadata', 'info'])"
      ]
     },
     "execution_count": 48,
     "metadata": {},
     "output_type": "execute_result"
    }
   ],
   "source": [
    "m1_data.keys()"
   ]
  },
  {
   "cell_type": "code",
   "execution_count": 49,
   "id": "09245eff-f03d-4b93-a343-6330c409cfe1",
   "metadata": {},
   "outputs": [],
   "source": [
    "#m1_data['info']"
   ]
  },
  {
   "cell_type": "code",
   "execution_count": 50,
   "id": "b71e71cd-5d10-4ba2-b1b8-b705c304215f",
   "metadata": {},
   "outputs": [],
   "source": [
    "my_m1_data = m1_data['info']['participants'][5]\n",
    "#my_m1_data"
   ]
  },
  {
   "cell_type": "code",
   "execution_count": 51,
   "id": "fb96f262-d35a-4f8f-b10a-cdf054e6d976",
   "metadata": {},
   "outputs": [
    {
     "data": {
      "text/plain": [
       "173"
      ]
     },
     "execution_count": 51,
     "metadata": {},
     "output_type": "execute_result"
    }
   ],
   "source": [
    "m1_dmg = m1_data['info']['participants'][5]['total_damage_to_players']\n",
    "m1_dmg"
   ]
  },
  {
   "cell_type": "code",
   "execution_count": 52,
   "id": "4e8c052b-e490-4d5c-a088-0fea4742ba03",
   "metadata": {},
   "outputs": [
    {
     "data": {
      "text/plain": [
       "1"
      ]
     },
     "execution_count": 52,
     "metadata": {},
     "output_type": "execute_result"
    }
   ],
   "source": [
    "m1_place = m1_data['info']['participants'][5]['placement']\n",
    "m1_place"
   ]
  },
  {
   "cell_type": "code",
   "execution_count": 53,
   "id": "0f6e8f37-e1b3-4193-8757-7987e93b341e",
   "metadata": {},
   "outputs": [
    {
     "data": {
      "text/plain": [
       "(173, 1)"
      ]
     },
     "execution_count": 53,
     "metadata": {},
     "output_type": "execute_result"
    }
   ],
   "source": [
    "m1_stats = m1_dmg, m1_place\n",
    "m1_stats"
   ]
  },
  {
   "cell_type": "code",
   "execution_count": 54,
   "id": "3500d559-cec1-4354-a65b-93acfc06f23a",
   "metadata": {},
   "outputs": [],
   "source": [
    "m2_api_url = \"https://americas.api.riotgames.com/tft/match/v1/matches/NA1_5177257206\""
   ]
  },
  {
   "cell_type": "code",
   "execution_count": 55,
   "id": "5c9e3fde-6c76-4f0b-bd3a-09bd00f0819d",
   "metadata": {},
   "outputs": [
    {
     "data": {
      "text/plain": [
       "'https://americas.api.riotgames.com/tft/match/v1/matches/NA1_5177257206?api_key=RGAPI-b7c1e19b-d041-4fd3-99e8-3047f8d1c5e2'"
      ]
     },
     "execution_count": 55,
     "metadata": {},
     "output_type": "execute_result"
    }
   ],
   "source": [
    "m2_api_url = m2_api_url + \"?api_key=\" + api_key\n",
    "m2_api_url"
   ]
  },
  {
   "cell_type": "code",
   "execution_count": 56,
   "id": "dc329b81-27e8-4e3d-b0c0-5e499bcdac05",
   "metadata": {},
   "outputs": [
    {
     "data": {
      "text/plain": [
       "<Response [200]>"
      ]
     },
     "execution_count": 56,
     "metadata": {},
     "output_type": "execute_result"
    }
   ],
   "source": [
    "m2_response = requests.get(m2_api_url)\n",
    "m2_response"
   ]
  },
  {
   "cell_type": "code",
   "execution_count": 57,
   "id": "f66e35cd-478a-476c-bd19-7faedf51bd32",
   "metadata": {},
   "outputs": [],
   "source": [
    "m2_data = m2_response.json()\n",
    "#m2_data"
   ]
  },
  {
   "cell_type": "code",
   "execution_count": 58,
   "id": "e1a85eb5-5ea7-444b-94d2-7baed4f127db",
   "metadata": {},
   "outputs": [
    {
     "data": {
      "text/plain": [
       "dict_keys(['metadata', 'info'])"
      ]
     },
     "execution_count": 58,
     "metadata": {},
     "output_type": "execute_result"
    }
   ],
   "source": [
    "m2_data.keys()"
   ]
  },
  {
   "cell_type": "code",
   "execution_count": 63,
   "id": "d3ac80f5-f535-4dbb-8ffe-90c1f5d1e4b9",
   "metadata": {},
   "outputs": [],
   "source": [
    "my_m2_data = m2_data['info']['participants'][1]\n",
    "#my_m2_data"
   ]
  },
  {
   "cell_type": "code",
   "execution_count": 64,
   "id": "fa0a35dc-8c43-478a-9f56-a4aa71dd8420",
   "metadata": {},
   "outputs": [
    {
     "data": {
      "text/plain": [
       "53"
      ]
     },
     "execution_count": 64,
     "metadata": {},
     "output_type": "execute_result"
    }
   ],
   "source": [
    "m2_dmg =  m2_data['info']['participants'][1]['total_damage_to_players']\n",
    "m2_dmg"
   ]
  },
  {
   "cell_type": "code",
   "execution_count": 65,
   "id": "5dece07d-eb24-479c-8ae4-5d29ac431801",
   "metadata": {},
   "outputs": [
    {
     "data": {
      "text/plain": [
       "7"
      ]
     },
     "execution_count": 65,
     "metadata": {},
     "output_type": "execute_result"
    }
   ],
   "source": [
    "m2_place =  m2_data['info']['participants'][1]['placement']\n",
    "m2_place"
   ]
  },
  {
   "cell_type": "code",
   "execution_count": 66,
   "id": "74f332d6-225c-4f21-90db-cf7addbd9d27",
   "metadata": {},
   "outputs": [
    {
     "data": {
      "text/plain": [
       "(53, 7)"
      ]
     },
     "execution_count": 66,
     "metadata": {},
     "output_type": "execute_result"
    }
   ],
   "source": [
    "m2_stats = (m2_dmg, m2_place)\n",
    "m2_stats"
   ]
  },
  {
   "cell_type": "code",
   "execution_count": 67,
   "id": "f3ed8bba-93ee-4876-95a1-d6a7145f3abf",
   "metadata": {},
   "outputs": [],
   "source": [
    "m3_api_url = \"https://americas.api.riotgames.com/tft/match/v1/matches/NA1_5177182667\""
   ]
  },
  {
   "cell_type": "code",
   "execution_count": 68,
   "id": "1a7163a3-8ce4-43cf-9643-508a46aa3454",
   "metadata": {},
   "outputs": [
    {
     "data": {
      "text/plain": [
       "'https://americas.api.riotgames.com/tft/match/v1/matches/NA1_5177182667?api_key=RGAPI-b7c1e19b-d041-4fd3-99e8-3047f8d1c5e2'"
      ]
     },
     "execution_count": 68,
     "metadata": {},
     "output_type": "execute_result"
    }
   ],
   "source": [
    "m3_api_url = m3_api_url + \"?api_key=\" + api_key\n",
    "m3_api_url"
   ]
  },
  {
   "cell_type": "code",
   "execution_count": 69,
   "id": "8d9467b8-91c3-4c04-b3be-f87a387d7445",
   "metadata": {},
   "outputs": [
    {
     "data": {
      "text/plain": [
       "<Response [200]>"
      ]
     },
     "execution_count": 69,
     "metadata": {},
     "output_type": "execute_result"
    }
   ],
   "source": [
    "m3_response = requests.get(m3_api_url)\n",
    "m3_response"
   ]
  },
  {
   "cell_type": "code",
   "execution_count": 70,
   "id": "cf973a32-ba83-4928-ab35-65945bed9881",
   "metadata": {},
   "outputs": [],
   "source": [
    "m3_data = m3_response.json()\n",
    "#m3_data"
   ]
  },
  {
   "cell_type": "code",
   "execution_count": 71,
   "id": "d6137f58-3b57-4c6c-8999-edeab76f0d2d",
   "metadata": {},
   "outputs": [
    {
     "data": {
      "text/plain": [
       "dict_keys(['metadata', 'info'])"
      ]
     },
     "execution_count": 71,
     "metadata": {},
     "output_type": "execute_result"
    }
   ],
   "source": [
    "m3_data.keys()"
   ]
  },
  {
   "cell_type": "code",
   "execution_count": 77,
   "id": "5a917449-6955-4dd5-b8f8-6d00b1f12ba5",
   "metadata": {},
   "outputs": [],
   "source": [
    "my_m3_data = m3_data['info']['participants'][2]\n",
    "#my_m3_data"
   ]
  },
  {
   "cell_type": "code",
   "execution_count": 78,
   "id": "8be0724b-f7f9-4a23-af7a-3df049120f86",
   "metadata": {},
   "outputs": [
    {
     "data": {
      "text/plain": [
       "120"
      ]
     },
     "execution_count": 78,
     "metadata": {},
     "output_type": "execute_result"
    }
   ],
   "source": [
    "m3_dmg =  m3_data['info']['participants'][2]['total_damage_to_players']\n",
    "m3_dmg"
   ]
  },
  {
   "cell_type": "code",
   "execution_count": 79,
   "id": "da1b3b80-fa8c-40d5-a1d6-23dca166af98",
   "metadata": {},
   "outputs": [
    {
     "data": {
      "text/plain": [
       "4"
      ]
     },
     "execution_count": 79,
     "metadata": {},
     "output_type": "execute_result"
    }
   ],
   "source": [
    "m3_place =  m3_data['info']['participants'][2]['placement']\n",
    "m3_place"
   ]
  },
  {
   "cell_type": "code",
   "execution_count": 80,
   "id": "98b3a807-68b8-48b7-a692-1efb1e466b99",
   "metadata": {},
   "outputs": [
    {
     "data": {
      "text/plain": [
       "(120, 4)"
      ]
     },
     "execution_count": 80,
     "metadata": {},
     "output_type": "execute_result"
    }
   ],
   "source": [
    "m3_stats = (m3_dmg, m3_place)\n",
    "m3_stats"
   ]
  },
  {
   "cell_type": "code",
   "execution_count": 82,
   "id": "b8f8fbf5-87f8-468b-82e4-8276ba3add0b",
   "metadata": {},
   "outputs": [],
   "source": [
    "m4_api_url = \"https://americas.api.riotgames.com/tft/match/v1/matches/NA1_5177140670\""
   ]
  },
  {
   "cell_type": "code",
   "execution_count": 83,
   "id": "0d8cac2f-410c-4cd5-8b87-9452dbbda0a8",
   "metadata": {},
   "outputs": [
    {
     "data": {
      "text/plain": [
       "'https://americas.api.riotgames.com/tft/match/v1/matches/NA1_5177140670?api_key=RGAPI-b7c1e19b-d041-4fd3-99e8-3047f8d1c5e2'"
      ]
     },
     "execution_count": 83,
     "metadata": {},
     "output_type": "execute_result"
    }
   ],
   "source": [
    "m4_api_url = m4_api_url + \"?api_key=\" + api_key\n",
    "m4_api_url"
   ]
  },
  {
   "cell_type": "code",
   "execution_count": 84,
   "id": "7959d54d-50c7-46c4-b280-1f01d16c42db",
   "metadata": {},
   "outputs": [
    {
     "data": {
      "text/plain": [
       "<Response [200]>"
      ]
     },
     "execution_count": 84,
     "metadata": {},
     "output_type": "execute_result"
    }
   ],
   "source": [
    "m4_response = requests.get(m4_api_url)\n",
    "m4_response"
   ]
  },
  {
   "cell_type": "code",
   "execution_count": 85,
   "id": "236ec388-b581-4d1f-8c41-9070ca889024",
   "metadata": {},
   "outputs": [],
   "source": [
    "m4_data = m4_response.json()\n",
    "#m4_data"
   ]
  },
  {
   "cell_type": "code",
   "execution_count": 86,
   "id": "5a36d9be-2054-4eec-b2d8-31d1f5497efc",
   "metadata": {},
   "outputs": [
    {
     "data": {
      "text/plain": [
       "dict_keys(['metadata', 'info'])"
      ]
     },
     "execution_count": 86,
     "metadata": {},
     "output_type": "execute_result"
    }
   ],
   "source": [
    "m4_data.keys()"
   ]
  },
  {
   "cell_type": "code",
   "execution_count": 98,
   "id": "0eedec5f-b336-47dd-abfa-143b805acb6c",
   "metadata": {},
   "outputs": [],
   "source": [
    "my_m4_data = m4_data['info']['participants'][4]\n",
    "#my_m4_data"
   ]
  },
  {
   "cell_type": "code",
   "execution_count": 99,
   "id": "33004afc-54d2-439e-9af8-b4b7b8b1d5fc",
   "metadata": {},
   "outputs": [
    {
     "data": {
      "text/plain": [
       "114"
      ]
     },
     "execution_count": 99,
     "metadata": {},
     "output_type": "execute_result"
    }
   ],
   "source": [
    "m4_dmg =  m4_data['info']['participants'][4]['total_damage_to_players']\n",
    "m4_dmg"
   ]
  },
  {
   "cell_type": "code",
   "execution_count": 100,
   "id": "d1b62ed4-a972-45e3-8829-106699d093b1",
   "metadata": {},
   "outputs": [
    {
     "data": {
      "text/plain": [
       "4"
      ]
     },
     "execution_count": 100,
     "metadata": {},
     "output_type": "execute_result"
    }
   ],
   "source": [
    "m4_place =  m4_data['info']['participants'][4]['placement']\n",
    "m4_place"
   ]
  },
  {
   "cell_type": "code",
   "execution_count": 101,
   "id": "35c5e9f1-0677-42eb-b51e-a444dea713e8",
   "metadata": {},
   "outputs": [
    {
     "data": {
      "text/plain": [
       "(114, 4)"
      ]
     },
     "execution_count": 101,
     "metadata": {},
     "output_type": "execute_result"
    }
   ],
   "source": [
    "m4_stats = (m4_dmg, m4_place)\n",
    "m4_stats"
   ]
  },
  {
   "cell_type": "code",
   "execution_count": 102,
   "id": "c3ede896-e39f-4044-a17e-13f571b459da",
   "metadata": {},
   "outputs": [],
   "source": [
    "m5_api_url = \"https://americas.api.riotgames.com/tft/match/v1/matches/NA1_5177104755\""
   ]
  },
  {
   "cell_type": "code",
   "execution_count": 103,
   "id": "a0c60918-ae98-4965-bca8-03b8a2d1f963",
   "metadata": {},
   "outputs": [
    {
     "data": {
      "text/plain": [
       "'https://americas.api.riotgames.com/tft/match/v1/matches/NA1_5177104755?api_key=RGAPI-b7c1e19b-d041-4fd3-99e8-3047f8d1c5e2'"
      ]
     },
     "execution_count": 103,
     "metadata": {},
     "output_type": "execute_result"
    }
   ],
   "source": [
    "m5_api_url = m5_api_url + \"?api_key=\" + api_key\n",
    "m5_api_url"
   ]
  },
  {
   "cell_type": "code",
   "execution_count": 104,
   "id": "79905ee2-200d-4a58-b4aa-20e1a1040f13",
   "metadata": {},
   "outputs": [
    {
     "data": {
      "text/plain": [
       "<Response [200]>"
      ]
     },
     "execution_count": 104,
     "metadata": {},
     "output_type": "execute_result"
    }
   ],
   "source": [
    "m5_response = requests.get(m5_api_url)\n",
    "m5_response"
   ]
  },
  {
   "cell_type": "code",
   "execution_count": 105,
   "id": "a7d61c56-d55d-4afe-8e62-212239c4730d",
   "metadata": {},
   "outputs": [],
   "source": [
    "m5_data = m5_response.json()\n",
    "#m5_data"
   ]
  },
  {
   "cell_type": "code",
   "execution_count": 106,
   "id": "c30a7b03-692e-4598-93fc-484cb3723aed",
   "metadata": {},
   "outputs": [
    {
     "data": {
      "text/plain": [
       "dict_keys(['metadata', 'info'])"
      ]
     },
     "execution_count": 106,
     "metadata": {},
     "output_type": "execute_result"
    }
   ],
   "source": [
    "m5_data.keys()"
   ]
  },
  {
   "cell_type": "code",
   "execution_count": 116,
   "id": "ed7b2821-33c0-4978-b519-ec5bb920d32a",
   "metadata": {},
   "outputs": [],
   "source": [
    "my_m5_data = m5_data['info']['participants'][7]\n",
    "#my_m5_data"
   ]
  },
  {
   "cell_type": "code",
   "execution_count": 119,
   "id": "c4e18039-0062-48f4-8ca2-f5e2b7cb0312",
   "metadata": {},
   "outputs": [
    {
     "data": {
      "text/plain": [
       "128"
      ]
     },
     "execution_count": 119,
     "metadata": {},
     "output_type": "execute_result"
    }
   ],
   "source": [
    "m5_dmg =  m5_data['info']['participants'][7]['total_damage_to_players']\n",
    "m5_dmg"
   ]
  },
  {
   "cell_type": "code",
   "execution_count": 120,
   "id": "aa59adcb-5660-455c-be74-0486da888547",
   "metadata": {},
   "outputs": [
    {
     "data": {
      "text/plain": [
       "2"
      ]
     },
     "execution_count": 120,
     "metadata": {},
     "output_type": "execute_result"
    }
   ],
   "source": [
    "m5_place =  m5_data['info']['participants'][7]['placement']\n",
    "m5_place"
   ]
  },
  {
   "cell_type": "code",
   "execution_count": 121,
   "id": "611dd432-3597-4aad-8e33-1c673fe75c6c",
   "metadata": {},
   "outputs": [
    {
     "data": {
      "text/plain": [
       "(128, 2)"
      ]
     },
     "execution_count": 121,
     "metadata": {},
     "output_type": "execute_result"
    }
   ],
   "source": [
    "m5_stats = (m5_dmg, m5_place)\n",
    "m5_stats"
   ]
  },
  {
   "cell_type": "markdown",
   "id": "8506ed90-5536-4dfc-8679-9de2c4309319",
   "metadata": {},
   "source": [
    "Lastly, I create five points for each of the five matches on a scatter plot. I set a title, X-values, Y-values, and give these points a color to identify each match."
   ]
  },
  {
   "cell_type": "code",
   "execution_count": 128,
   "id": "0572a022-7b85-41ce-a85d-4f9f3ee6458f",
   "metadata": {},
   "outputs": [
    {
     "data": {
      "image/png": "[encoded data removed]",
      "text/plain": [
       "<Figure size 500x500 with 1 Axes>"
      ]
     },
     "metadata": {},
     "output_type": "display_data"
    }
   ],
   "source": [
    "fig1, ax1 = plt.subplots(figsize = (5,5))\n",
    "ax1.scatter(x = m1_place, y = m1_dmg, label = 'Match 1', color = 'red', edgecolors = 'black')\n",
    "ax1.scatter(x = m2_place, y = m2_dmg, label = 'Match 2', color = 'magenta', edgecolors = 'black' )\n",
    "ax1.scatter(x = m3_place, y = m3_dmg, label = 'Match 3', color = 'turquoise', edgecolors = 'black')\n",
    "ax1.scatter(x = m4_place, y = m4_dmg, label = 'Match 4', color = 'orange', edgecolors = 'black')\n",
    "ax1.scatter(x = m5_place, y = m5_dmg, label = 'Match 5', color = 'green', edgecolors = 'black')\n",
    "\n",
    "ax1.set_title('Correlation Between Damage Done To Other Players\\n and Placement in Teamfight Tactics')\n",
    "ax1.set_xlabel('Placement')\n",
    "ax1.set_ylabel('Total Damage Done to Players')\n",
    "ax1.legend()\n",
    "\n",
    "plt.show()"
   ]
  },
  {
   "cell_type": "markdown",
   "id": "911f27da-79a3-4578-8f19-869282dba8b7",
   "metadata": {},
   "source": [
    "Overall, this data shows that the common conception is correct. It is true that the more player damage a person does to another player, the higher they place. We can see that in match 1, I did above 160 player damage (more specifically, 173 damage to other players and placed 1st. When Looking at Match 5 with 128 player damage done and placing second, and Match 3 with 120 player damage done and placind fourth, we can see that these two numbers closer together but have different placements- however I still placed higher when I did more player damage. When dealing lower player damage, 53, in Match 2, I placed lower- 7th place.\n",
    "\n",
    "\n",
    "\n",
    "\n",
    "\n",
    "\n"
   ]
  },
  {
   "cell_type": "markdown",
   "id": "0f4a8e33-23f6-48ae-bb66-26da99f1f267",
   "metadata": {},
   "source": [
    "A limitation I had with this project was data security. This type of limitation is not a negative type of limitation. When using the Riot Games Developer Portal, and playing TFT, I had to refresh the API Key, API links, and Match ID’s. Though this was for safety and up-to-date information and API’s, it was very tedious. Another limitation I had was visualizations. With correlation, I was only able to include one visualization that will clearly and accurately show my findings."
   ]
  },
  {
   "cell_type": "markdown",
   "id": "9dd468e3-41f6-4ee9-b9fe-9c19d3414929",
   "metadata": {},
   "source": [
    "An alternative approach for this project would be to examine the correlation between player damage and a specific placement. For example, out of a certain amount of games, how much player damage a player did when they placed eight, third, sixth, etc. A slight limitation of this would be to find a certain amount of games that I placed the certain placement."
   ]
  },
  {
   "cell_type": "markdown",
   "id": "e258e587-c256-4e87-81c7-476cb9adb8f9",
   "metadata": {},
   "source": [
    "Some next steps I would take for this project would be to include other variables in this correlation. I had thought about including gold left after elimination. However, most players typically have little to no gold left after elimination. Another variable I would consider in this project is to examine the correlation between placement and team composition played."
   ]
  }
 ],
 "metadata": {
  "kernelspec": {
   "display_name": "Python 3 (ipykernel)",
   "language": "python",
   "name": "python3"
  },
  "language_info": {
   "codemirror_mode": {
    "name": "ipython",
    "version": 3
   },
   "file_extension": ".py",
   "mimetype": "text/x-python",
   "name": "python",
   "nbconvert_exporter": "python",
   "pygments_lexer": "ipython3",
   "version": "3.12.4"
  }
 },
 "nbformat": 4,
 "nbformat_minor": 5
}
