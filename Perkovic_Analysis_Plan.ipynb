{
 "cells": [
  {
   "cell_type": "code",
   "execution_count": 133,
   "id": "39c4b031-4953-4bc1-bba3-b920aea41ea3",
   "metadata": {},
   "outputs": [],
   "source": [
    "import pandas as pd\n",
    "import requests\n",
    "from io import StringIO\n",
    "import json\n",
    "import matplotlib\n",
    "import urllib.request\n",
    "import html5lib\n",
    "import base64\n",
    "import matplotlib.pyplot as plt\n",
    "import seaborn as sns\n",
    "from scipy import stats\n",
    "import statsmodels.formula.api as smf"
   ]
  },
  {
   "cell_type": "code",
   "execution_count": 134,
   "id": "80a6c9a6-80e1-4076-bf40-d602e6baa072",
   "metadata": {},
   "outputs": [],
   "source": [
    "def get_session_token (token):\n",
    "    url = 'https://americas.api.riotgames.com/riot/account/v1/accounts/me'\n",
    "    header = 'Authorization: Bearer {accessToken}'\n",
    "    response = requests.post(url, headers = header)\n",
    "    print(response.status_code)\n",
    "    return response.json()['access_token']\n",
    "# found url and header here: https://developer.riotgames.com/docs/tft#static-data"
   ]
  },
  {
   "cell_type": "code",
   "execution_count": 135,
   "id": "13f9e307-c1c7-4824-9f15-d9c9a2d5a334",
   "metadata": {},
   "outputs": [],
   "source": [
    "key = pd.read_csv('riotapikey.txt')"
   ]
  },
  {
   "cell_type": "code",
   "execution_count": 136,
   "id": "cc13b304-91cb-4e49-8a7e-338de6e48c9d",
   "metadata": {},
   "outputs": [],
   "source": [
    "#key"
   ]
  },
  {
   "cell_type": "markdown",
   "id": "bcb95715-3755-4b5d-b87b-594a47f602e8",
   "metadata": {},
   "source": [
    "^ Reading my personal API key from Riot Developer Portal (found in dashboard)."
   ]
  },
  {
   "cell_type": "markdown",
   "id": "727d440f-1034-4917-8fc2-dc8aa19ac221",
   "metadata": {},
   "source": [
    "#### Find account PUUID by game name and tag line - https://developer.riotgames.com/apis#account-v1/GET_getByRiotId"
   ]
  },
  {
   "cell_type": "code",
   "execution_count": 137,
   "id": "4ee4b7a0-33e3-449f-895e-ab2c96b398ab",
   "metadata": {},
   "outputs": [],
   "source": [
    "puuid_api = 'https://americas.api.riotgames.com/riot/account/v1/accounts/by-riot-id/KSU%20kaitlyn/2640?api_key=RGAPI-73257328-0b00-4c6e-a6e4-7bc6a87988ff'"
   ]
  },
  {
   "cell_type": "code",
   "execution_count": 138,
   "id": "0f455d56-c521-4687-a204-a0bc8ec26182",
   "metadata": {},
   "outputs": [
    {
     "data": {
      "text/plain": [
       "200"
      ]
     },
     "execution_count": 138,
     "metadata": {},
     "output_type": "execute_result"
    }
   ],
   "source": [
    "puuid_api = requests.get(puuid_api)\n",
    "puuid_api.status_code"
   ]
  },
  {
   "cell_type": "code",
   "execution_count": 139,
   "id": "5056913c-7591-48c9-84ea-082db83fcc69",
   "metadata": {},
   "outputs": [],
   "source": [
    "puuid_api = 'https://americas.api.riotgames.com/riot/account/v1/accounts/by-riot-id/KSU%20kaitlyn/2640?api_key=RGAPI-73257328-0b00-4c6e-a6e4-7bc6a87988ff'\n",
    "puuid_read = urllib.request.urlopen(puuid_api)\n",
    "puuid_content = puuid_read.read()\n",
    "#print(puuid_content)\n",
    "#found this here: https://docs.python.org/3/library/urllib.request.html#module-urllib.request"
   ]
  },
  {
   "cell_type": "code",
   "execution_count": 140,
   "id": "80245027-4598-4d3e-ae9d-53d68c5263c4",
   "metadata": {},
   "outputs": [
    {
     "data": {
      "text/plain": [
       "(str, bytes)"
      ]
     },
     "execution_count": 140,
     "metadata": {},
     "output_type": "execute_result"
    }
   ],
   "source": [
    "type(puuid_api), type(puuid_content)"
   ]
  },
  {
   "cell_type": "markdown",
   "id": "a193b60e-06f9-4779-aa1e-96d14c8a00d0",
   "metadata": {},
   "source": [
    "From here, I am able to find my PUUID from the contents. However, I am unsure on how I can get this into a tidy data format since I am unfamilliar on tidy data and strings/bytes.\n",
    "\n",
    "To for privacy, I put my PUUID into a txt file."
   ]
  },
  {
   "cell_type": "code",
   "execution_count": 141,
   "id": "73a673b4-76b3-478f-9529-4fdef586e7be",
   "metadata": {},
   "outputs": [],
   "source": [
    "puuid = pd.read_csv('puuid.txt')"
   ]
  },
  {
   "cell_type": "code",
   "execution_count": 142,
   "id": "3ec0863c-e88a-490c-8a72-06f25b98e985",
   "metadata": {},
   "outputs": [],
   "source": [
    "#puuid"
   ]
  },
  {
   "cell_type": "markdown",
   "id": "8e3211f3-016c-4cc6-ad04-12b87721b113",
   "metadata": {},
   "source": [
    "#### Find matches from PUUID: https://developer.riotgames.com/apis#tft-match-v1/GET_getMatchIdsByPUUID\n",
    "For this project, I plan to examine my five most recent games."
   ]
  },
  {
   "cell_type": "code",
   "execution_count": 143,
   "id": "8218ec91-97cb-45ad-a2ca-9f5adb141a0c",
   "metadata": {},
   "outputs": [],
   "source": [
    "matches_api = 'https://americas.api.riotgames.com/tft/match/v1/matches/by-puuid/kAyLsUWjjLXsTfx2KTnaoJosyIFQlTEgV7Cq7P6FFlkcNqJvomESh7u2NUncHkluC_-fAxGdt1xSVg/ids?start=0&count=5&api_key=RGAPI-73257328-0b00-4c6e-a6e4-7bc6a87988ff'"
   ]
  },
  {
   "cell_type": "code",
   "execution_count": 144,
   "id": "3c9d01ba-7514-43a0-9735-5a3201d630d6",
   "metadata": {},
   "outputs": [
    {
     "data": {
      "text/plain": [
       "200"
      ]
     },
     "execution_count": 144,
     "metadata": {},
     "output_type": "execute_result"
    }
   ],
   "source": [
    "matches_api = requests.get(matches_api)\n",
    "matches_api.status_code"
   ]
  },
  {
   "cell_type": "code",
   "execution_count": 145,
   "id": "6da749b5-d505-46a1-a6e3-176404cf5dd7",
   "metadata": {},
   "outputs": [],
   "source": [
    "matches_api = 'https://americas.api.riotgames.com/tft/match/v1/matches/by-puuid/kAyLsUWjjLXsTfx2KTnaoJosyIFQlTEgV7Cq7P6FFlkcNqJvomESh7u2NUncHkluC_-fAxGdt1xSVg/ids?start=0&count=5&api_key=RGAPI-73257328-0b00-4c6e-a6e4-7bc6a87988ff'\n",
    "matches_read = urllib.request.urlopen(matches_api)\n",
    "matches_content = matches_read.read()\n",
    "#print(matches_content)\n",
    "#found this here: https://docs.python.org/3/library/urllib.request.html#module-urllib.request"
   ]
  },
  {
   "cell_type": "markdown",
   "id": "becd8499-49fb-4031-bf87-0d678a31b482",
   "metadata": {},
   "source": [
    "^ These five matches are the current matches I will go off of. As these will change over time, and as I will have to update the apis over time since I have to refresh my API key every day, these matches may change. For the next part, I will use the first match (NA1_5164850714)."
   ]
  },
  {
   "cell_type": "markdown",
   "id": "2c27494d-7c5e-473b-a477-5df04eb1efc2",
   "metadata": {},
   "source": [
    "#### Find match details using a match id: https://developer.riotgames.com/apis#tft-match-v1/GET_getMatch"
   ]
  },
  {
   "cell_type": "code",
   "execution_count": 146,
   "id": "84c9e43b-be6b-43b5-9139-4053352915c4",
   "metadata": {},
   "outputs": [],
   "source": [
    "match_714_api = 'https://americas.api.riotgames.com/tft/match/v1/matches/NA1_5164850714?api_key=RGAPI-73257328-0b00-4c6e-a6e4-7bc6a87988ff'"
   ]
  },
  {
   "cell_type": "code",
   "execution_count": 147,
   "id": "7e8cf7bc-60c8-4137-9157-887e93f119bf",
   "metadata": {},
   "outputs": [
    {
     "data": {
      "text/plain": [
       "200"
      ]
     },
     "execution_count": 147,
     "metadata": {},
     "output_type": "execute_result"
    }
   ],
   "source": [
    "match_714_api = requests.get(match_714_api)\n",
    "match_714_api.status_code"
   ]
  },
  {
   "cell_type": "code",
   "execution_count": 148,
   "id": "f6f013d7-ecf8-49c0-aa94-bc1b01454815",
   "metadata": {},
   "outputs": [],
   "source": [
    "match_714_api = 'https://americas.api.riotgames.com/tft/match/v1/matches/NA1_5164850714?api_key=RGAPI-73257328-0b00-4c6e-a6e4-7bc6a87988ff'\n",
    "match714_read = urllib.request.urlopen(match_714_api)\n",
    "match714_content = match714_read.read()\n",
    "#print(match714_content)"
   ]
  },
  {
   "cell_type": "markdown",
   "id": "3376e25b-5f48-4be0-a0c1-b509cfd4a646",
   "metadata": {},
   "source": [
    "I put this data into a txt file."
   ]
  },
  {
   "cell_type": "code",
   "execution_count": 149,
   "id": "638cbebc-c573-4814-bec0-6f01d0a757ee",
   "metadata": {},
   "outputs": [
    {
     "data": {
      "text/plain": [
       "bytes"
      ]
     },
     "execution_count": 149,
     "metadata": {},
     "output_type": "execute_result"
    }
   ],
   "source": [
    "type(match714_content)"
   ]
  },
  {
   "cell_type": "markdown",
   "id": "b132d848-dec1-4c6c-a410-45c30395ce24",
   "metadata": {},
   "source": [
    "With this data, I am unsure on how to transform it from bytes to something I am familiar working with. If possible, I plan to do reserch on how this is possible."
   ]
  },
  {
   "cell_type": "code",
   "execution_count": 150,
   "id": "f5a32c74-e43b-4e88-94bc-32f3ac9e6999",
   "metadata": {},
   "outputs": [],
   "source": [
    "m714data = pd.read_csv('match714data.txt')\n",
    "#m714data"
   ]
  },
  {
   "cell_type": "code",
   "execution_count": null,
   "id": "431cfc26-7983-4d48-95be-f98a8b36388a",
   "metadata": {},
   "outputs": [],
   "source": []
  },
  {
   "cell_type": "code",
   "execution_count": null,
   "id": "2738b8a4-dc90-464e-ab70-830134cd10fd",
   "metadata": {},
   "outputs": [],
   "source": []
  },
  {
   "cell_type": "code",
   "execution_count": null,
   "id": "f18063a4-5d1a-4b79-8fcd-4d543d3aea3a",
   "metadata": {},
   "outputs": [],
   "source": []
  }
 ],
 "metadata": {
  "kernelspec": {
   "display_name": "Python 3 (ipykernel)",
   "language": "python",
   "name": "python3"
  },
  "language_info": {
   "codemirror_mode": {
    "name": "ipython",
    "version": 3
   },
   "file_extension": ".py",
   "mimetype": "text/x-python",
   "name": "python",
   "nbconvert_exporter": "python",
   "pygments_lexer": "ipython3",
   "version": "3.12.4"
  }
 },
 "nbformat": 4,
 "nbformat_minor": 5
}
